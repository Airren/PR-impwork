{
 "cells": [
  {
   "cell_type": "code",
   "execution_count": 2,
   "metadata": {},
   "outputs": [],
   "source": [
    "from sklearn.datasets import load_iris\n",
    "from sklearn.model_selection import train_test_split\n",
    "import numpy as np\n",
    "import matplotlib.pyplot as plt  \n",
    "from mlxtend.plotting import plot_decision_regions\n",
    "from sklearn.metrics import accuracy_score\n",
    "from sklearn.svm import SVC"
   ]
  },
  {
   "cell_type": "code",
   "execution_count": 33,
   "metadata": {},
   "outputs": [
    {
     "name": "stdout",
     "output_type": "stream",
     "text": [
      "the accuracy is:  0.9666666666666667\n"
     ]
    }
   ],
   "source": [
    "iris=load_iris()\n",
    "feature=iris.data\n",
    "target=iris.target\n",
    "x=feature[:,:]\n",
    "y=target[:]\n",
    "x_train, x_test, y_train, y_test=train_test_split(x, y, test_size=0.2, random_state=31,stratify=y)\n",
    "clf=SVC(C=6,kernel='rbf')\n",
    "# clf=SVC(C=1,kernel='linear')\n",
    "clf.fit(x_train,y_train)\n",
    "pred=clf.predict(x_test)\n",
    "acc=accuracy_score(y_test,pred)\n",
    "print('the accuracy is: ',acc)\n",
    "# clf2.fit(x_tu,y)\n",
    "# fig = plot_decision_regions(X=x_train, y=y_train,\n",
    "#                                 clf=clf, legend=2)"
   ]
  },
  {
   "cell_type": "code",
   "execution_count": null,
   "metadata": {},
   "outputs": [],
   "source": []
  }
 ],
 "metadata": {
  "kernelspec": {
   "display_name": "Python 3",
   "language": "python",
   "name": "python3"
  },
  "language_info": {
   "codemirror_mode": {
    "name": "ipython",
    "version": 3
   },
   "file_extension": ".py",
   "mimetype": "text/x-python",
   "name": "python",
   "nbconvert_exporter": "python",
   "pygments_lexer": "ipython3",
   "version": "3.6.4"
  }
 },
 "nbformat": 4,
 "nbformat_minor": 2
}
