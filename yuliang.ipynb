{
 "cells": [
  {
   "cell_type": "code",
   "execution_count": 1,
   "metadata": {},
   "outputs": [],
   "source": [
    "from sklearn.datasets import load_iris\n",
    "from sklearn.model_selection import train_test_split\n",
    "import numpy as np\n",
    "import matplotlib.pyplot as plt  \n",
    "from mlxtend.plotting import plot_decision_regions\n",
    "from sklearn.metrics import accuracy_score\n",
    "np.random.seed(1)"
   ]
  },
  {
   "cell_type": "code",
   "execution_count": 2,
   "metadata": {},
   "outputs": [],
   "source": [
    "class yuliang(object):\n",
    "    def _init_(self):\n",
    "        self.W=None\n",
    "    def train(self,x,y,lr=0.1,num_iters=10000):\n",
    "        num_train,num_features=x.shape\n",
    "        xone=np.ones((num_train,1))\n",
    "        x=np.column_stack((xone,x))\n",
    "        x[np.where(y==-1)]=x[np.where(y==-1)]*-1\n",
    "        #权重和偏置初始化\n",
    "        self.W=np.random.rand(num_features+1)\n",
    "        cost=[]\n",
    "        bias=0.5\n",
    "        for i in range (num_iters):\n",
    "            errors=0\n",
    "            for Xi,target in zip(x,y):\n",
    "                if(np.dot(Xi,self.W)>bias):\n",
    "                    continue\n",
    "                errors+=np.dot(Xi,self.W)\n",
    "                tmp1=bias-np.dot(Xi,self.W)\n",
    "                tmp2=np.sum(np.square(Xi))\n",
    "                self.W+=lr*tmp1/tmp2*Xi\n",
    "            \n",
    "            if errors==0:\n",
    "                print('no wrong sample break')\n",
    "                break\n",
    "    \n",
    "    def linear(self,x):\n",
    "        return np.dot(x,self.W[1:])+self.W[0]\n",
    "    \n",
    "    def predict(self,x):\n",
    "        return np.where(self.linear(x)>=0.0,1,-1)"
   ]
  },
  {
   "cell_type": "code",
   "execution_count": 3,
   "metadata": {},
   "outputs": [],
   "source": [
    "class voter(object):\n",
    "    def _init_(self):\n",
    "        self.wmatrix=[]\n",
    "    def train(self,x,y,mode,classifier):\n",
    "        matrix=[]\n",
    "        if mode==0: #ova\n",
    "            y=np.array(y)\n",
    "            n_classes=np.unique(y)\n",
    "            for i in n_classes:\n",
    "                y_new=y\n",
    "                y_new=np.where(y_new==i,1,-1)\n",
    "                classifier.train(x,y_new)\n",
    "                matrix.append(classifier.W)\n",
    "        else:\n",
    "            if mode==1: #ovo\n",
    "                n_classes=np.unique(y)\n",
    "                x=np.array(x)\n",
    "                y=np.array(y)\n",
    "                for i in n_classes:\n",
    "                    for j in n_classes:\n",
    "                        if(i>=j):\n",
    "                            continue\n",
    "                        y_new=y\n",
    "                        y_new_i=y[np.where(y_new==i)]\n",
    "                        x_new_i=x[np.where(y_new==i)]\n",
    "                        y_new_j=y[np.where(y_new==j)]\n",
    "                        x_new_j=x[np.where(y_new==j)]\n",
    "                        y_new=np.concatenate((y_new_i,y_new_j),axis=0)\n",
    "                        x_new=np.concatenate((x_new_i,x_new_j),axis=0)\n",
    "                        y_new=np.where(y_new==i,1,-1)\n",
    "                        classifier.train(x_new,y_new)\n",
    "                        matrix.append(classifier.W)\n",
    "        self.wmatrix=matrix\n",
    "        return matrix\n",
    "    \n",
    "    def predict(self,x):\n",
    "        Wm=self.wmatrix\n",
    "        vote=[]\n",
    "        tim=0\n",
    "        result=[]\n",
    "        for i in range(0,len(self.wmatrix)):\n",
    "            for j in range(0,len(self.wmatrix)):\n",
    "                if(i>=j):\n",
    "                    continue\n",
    "                w=Wm[tim]\n",
    "                prediction=np.where((np.dot(x,w[1:])+w[0])>=0,i,j)\n",
    "                vote.append(prediction)\n",
    "                tim+=1\n",
    "        vote=np.array(vote).T\n",
    "        for line in vote:\n",
    "            tt=np.argmax(np.bincount(line))\n",
    "            result.append(tt)\n",
    "        return np.array(result)"
   ]
  },
  {
   "cell_type": "code",
   "execution_count": 4,
   "metadata": {},
   "outputs": [
    {
     "name": "stdout",
     "output_type": "stream",
     "text": [
      "[ 0.05394435  0.41405439 -1.67189121]\n"
     ]
    },
    {
     "data": {
      "image/png": "[encoded data removed]",
      "text/plain": [
       "<matplotlib.figure.Figure at 0x26cd9b1e860>"
      ]
     },
     "metadata": {},
     "output_type": "display_data"
    }
   ],
   "source": [
    "iris=load_iris()\n",
    "feature=iris.data\n",
    "target=iris.target\n",
    "x=feature[0:100,[1,3]]\n",
    "y=target[0:100]\n",
    "label = np.array(y)  \n",
    "index_0 = np.where(label==0)  \n",
    "plt.scatter(x[index_0,0],x[index_0,1],marker='x',color = 'b',label = '0',s = 15)\n",
    "index_1 =np.where(label==1)\n",
    "plt.scatter(x[index_1,0],x[index_1,1],marker='o',color = 'r',label = '1',s = 15) \n",
    "index_2=np.where(label==2)\n",
    "plt.scatter(x[index_2,0],x[index_2,1],marker='v',color = 'k',label = '2',s = 15) \n",
    "y_new=y\n",
    "y_new=np.where(y_new==0,1,-1)\n",
    "# y_new[np.where(y_new!=2)]=-1\n",
    "fen=yuliang()\n",
    "fen.train(x,y_new)\n",
    "\n",
    "w=fen.W\n",
    "print(w)\n",
    "x1 = np.arange(1.5,5,0.5)  \n",
    "x2 = -(w[0] +w[1]*x1) / w[2]\n",
    "plt.plot(x1,x2,color = 'black') \n",
    "plt.legend(loc = 'upper left')  \n",
    "plt.show()"
   ]
  },
  {
   "cell_type": "code",
   "execution_count": 5,
   "metadata": {},
   "outputs": [
    {
     "data": {
      "image/png": "[encoded data removed]",
      "text/plain": [
       "<matplotlib.figure.Figure at 0x26cd9b1e6a0>"
      ]
     },
     "metadata": {},
     "output_type": "display_data"
    }
   ],
   "source": [
    "# x_min, x_max = x[:, 0].min() - .5, x[:, 0].max() + .5  \n",
    "# y_min, y_max = x[:, 1].min() - .5, x[:, 1].max() + .5  \n",
    "# h = 0.01\n",
    "# xx, yy = np.meshgrid(np.arange(x_min, x_max, h), np.arange(y_min, y_max, h)) \n",
    "iris=load_iris()\n",
    "feature=iris.data\n",
    "target=iris.target\n",
    "x=feature[:,[1,3]]\n",
    "y=target[:]\n",
    "# x_train, x_test, y_train, y_test=train_test_split(x, y, test_size=0.3, random_state=31,stratify=y)\n",
    "label = np.array(y)  \n",
    "index_0 = np.where(label==0)  \n",
    "plt.scatter(x[index_0,0],x[index_0,1],marker='x',color = 'b',label = '0',s = 15)\n",
    "index_1 =np.where(label==1)\n",
    "plt.scatter(x[index_1,0],x[index_1,1],marker='o',color = 'r',label = '1',s = 15) \n",
    "index_2=np.where(label==2)\n",
    "plt.scatter(x[index_2,0],x[index_2,1],marker='v',color = 'k',label = '2',s = 15) \n",
    "\n",
    "plt.show()"
   ]
  },
  {
   "cell_type": "code",
   "execution_count": 6,
   "metadata": {},
   "outputs": [
    {
     "ename": "NameError",
     "evalue": "name 'ganzhiqi' is not defined",
     "output_type": "error",
     "traceback": [
      "\u001b[1;31m---------------------------------------------------------------------------\u001b[0m",
      "\u001b[1;31mNameError\u001b[0m                                 Traceback (most recent call last)",
      "\u001b[1;32m<ipython-input-6-065f9be85656>\u001b[0m in \u001b[0;36m<module>\u001b[1;34m()\u001b[0m\n\u001b[0;32m      7\u001b[0m \u001b[0mplt\u001b[0m\u001b[1;33m.\u001b[0m\u001b[0mscatter\u001b[0m\u001b[1;33m(\u001b[0m\u001b[0mx\u001b[0m\u001b[1;33m[\u001b[0m\u001b[0mindex_2\u001b[0m\u001b[1;33m,\u001b[0m\u001b[1;36m0\u001b[0m\u001b[1;33m]\u001b[0m\u001b[1;33m,\u001b[0m\u001b[0mx\u001b[0m\u001b[1;33m[\u001b[0m\u001b[0mindex_2\u001b[0m\u001b[1;33m,\u001b[0m\u001b[1;36m1\u001b[0m\u001b[1;33m]\u001b[0m\u001b[1;33m,\u001b[0m\u001b[0mmarker\u001b[0m\u001b[1;33m=\u001b[0m\u001b[1;34m'v'\u001b[0m\u001b[1;33m,\u001b[0m\u001b[0mcolor\u001b[0m \u001b[1;33m=\u001b[0m \u001b[1;34m'k'\u001b[0m\u001b[1;33m,\u001b[0m\u001b[0mlabel\u001b[0m \u001b[1;33m=\u001b[0m \u001b[1;34m'2'\u001b[0m\u001b[1;33m,\u001b[0m\u001b[0ms\u001b[0m \u001b[1;33m=\u001b[0m \u001b[1;36m15\u001b[0m\u001b[1;33m)\u001b[0m\u001b[1;33m\u001b[0m\u001b[0m\n\u001b[0;32m      8\u001b[0m \u001b[1;33m\u001b[0m\u001b[0m\n\u001b[1;32m----> 9\u001b[1;33m \u001b[0mgz\u001b[0m\u001b[1;33m=\u001b[0m\u001b[0mganzhiqi\u001b[0m\u001b[1;33m(\u001b[0m\u001b[1;33m)\u001b[0m\u001b[1;33m\u001b[0m\u001b[0m\n\u001b[0m\u001b[0;32m     10\u001b[0m \u001b[0mvt\u001b[0m\u001b[1;33m=\u001b[0m\u001b[0mvoter\u001b[0m\u001b[1;33m(\u001b[0m\u001b[1;33m)\u001b[0m\u001b[1;33m\u001b[0m\u001b[0m\n\u001b[0;32m     11\u001b[0m \u001b[0mW\u001b[0m\u001b[1;33m=\u001b[0m\u001b[0mvt\u001b[0m\u001b[1;33m.\u001b[0m\u001b[0mtrain\u001b[0m\u001b[1;33m(\u001b[0m\u001b[0mx\u001b[0m\u001b[1;33m,\u001b[0m\u001b[0my\u001b[0m\u001b[1;33m,\u001b[0m\u001b[1;36m1\u001b[0m\u001b[1;33m,\u001b[0m\u001b[0mgz\u001b[0m\u001b[1;33m)\u001b[0m\u001b[1;33m\u001b[0m\u001b[0m\n",
      "\u001b[1;31mNameError\u001b[0m: name 'ganzhiqi' is not defined"
     ]
    },
    {
     "data": {
      "image/png": "[encoded data removed]",
      "text/plain": [
       "<matplotlib.figure.Figure at 0x26cd9e84dd8>"
      ]
     },
     "metadata": {},
     "output_type": "display_data"
    }
   ],
   "source": [
    "label=np.array(y)\n",
    "index_0 = np.where(label==0)  \n",
    "plt.scatter(x[index_0,0],x[index_0,1],marker='x',color = 'b',label = '0',s = 15)\n",
    "index_1 =np.where(label==1)\n",
    "plt.scatter(x[index_1,0],x[index_1,1],marker='o',color = 'r',label = '1',s = 15) \n",
    "index_2=np.where(label==2)\n",
    "plt.scatter(x[index_2,0],x[index_2,1],marker='v',color = 'k',label = '2',s = 15) \n",
    "\n",
    "gz=yuliang()\n",
    "vt=voter()\n",
    "W=vt.train(x,y,1,gz)\n",
    "pred=vt.predict(x)\n",
    "acc=accuracy_score(y,pred)\n",
    "print('the accuracy is: ',acc)\n",
    "k=0\n",
    "name=['class 0,class 1','class 0,class 2','class 1,class 2']\n",
    "#show the decision boundary\n",
    "for w in W:\n",
    "    x1 = np.arange(1.5,5.5,0.5)  \n",
    "    x2 = -( w[0] +w[1]*x1) / w[2]  \n",
    "    plt.plot(x1,x2,label=name[k])   \n",
    "    plt.legend(loc = 'best')  \n",
    "    k=k+1\n",
    "plt.show()  "
   ]
  },
  {
   "cell_type": "code",
   "execution_count": null,
   "metadata": {},
   "outputs": [],
   "source": [
    "fig = plot_decision_regions(X=x, y=y,\n",
    "                                clf=vt, legend=2)"
   ]
  },
  {
   "cell_type": "code",
   "execution_count": null,
   "metadata": {},
   "outputs": [],
   "source": [
    "index_0 = np.where(label==0)  \n",
    "plt.scatter(x[index_0,0],x[index_0,1],marker='x',color = 'b',label = '0',s = 15)\n",
    "index_1 =np.where(label==1)\n",
    "plt.scatter(x[index_1,0],x[index_1,1],marker='o',color = 'r',label = '1',s = 15) \n",
    "index_2=np.where(label==2)\n",
    "plt.scatter(x[index_2,0],x[index_2,1],marker='v',color = 'k',label = '2',s = 15) \n",
    "\n",
    "gz=ganzhiqi()\n",
    "vt=voter()\n",
    "W=vt.train(x,y,0,gz)\n",
    "pred=vt.predict(x)\n",
    "acc=accuracy_score(y,pred)\n",
    "print('the accuracy is: ',acc)\n",
    "k=0\n",
    "name=['class 0 vs all','class 1 vs all','class 2 vs all']\n",
    "#show the decision boundary\n",
    "for w in W:\n",
    "    x1 = np.arange(1.5,5.5,0.5)  \n",
    "    x2 = -( w[0] +w[1]*x1) / w[2]  \n",
    "    plt.plot(x1,x2,label=name[k])   \n",
    "    plt.legend(loc = 'best')  \n",
    "    k=k+1\n",
    "plt.show()  "
   ]
  },
  {
   "cell_type": "code",
   "execution_count": null,
   "metadata": {},
   "outputs": [],
   "source": [
    "fig = plot_decision_regions(X=x, y=y,\n",
    "                                clf=vt, legend=2)"
   ]
  }
 ],
 "metadata": {
  "kernelspec": {
   "display_name": "Python 3",
   "language": "python",
   "name": "python3"
  },
  "language_info": {
   "codemirror_mode": {
    "name": "ipython",
    "version": 3
   },
   "file_extension": ".py",
   "mimetype": "text/x-python",
   "name": "python",
   "nbconvert_exporter": "python",
   "pygments_lexer": "ipython3",
   "version": "3.6.4"
  }
 },
 "nbformat": 4,
 "nbformat_minor": 2
}
